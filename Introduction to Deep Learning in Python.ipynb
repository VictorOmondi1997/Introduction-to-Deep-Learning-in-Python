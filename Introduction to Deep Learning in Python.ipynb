{
 "cells": [
  {
   "cell_type": "markdown",
   "metadata": {},
   "source": [
    "# Introduction to Deep Learning in Python\n",
    "\n",
    "> EXploring fundamentals of neural networks and how to build deep learning models using Keras 2.0\n",
    "\n",
    "- author: Victor Omondi\n",
    "- toc: true\n",
    "- comments: true\n",
    "- categories: [deep-learning]"
   ]
  },
  {
   "cell_type": "markdown",
   "metadata": {},
   "source": [
    "# Overview"
   ]
  },
  {
   "cell_type": "markdown",
   "metadata": {},
   "source": [
    "Deep learning is the machine learning technique behind the most exciting capabilities in diverse areas like robotics, natural language processing, image recognition, and artificial intelligence, including the famous AlphaGo. We'll gain hands-on, practical knowledge of how to use deep learning with Keras 2.0, the latest version of a cutting-edge library for deep learning in Python."
   ]
  },
  {
   "cell_type": "markdown",
   "metadata": {},
   "source": [
    "# Libraries"
   ]
  },
  {
   "cell_type": "code",
   "execution_count": 1,
   "metadata": {},
   "outputs": [],
   "source": [
    "%matplotlib inline\n",
    "\n",
    "import warnings\n",
    "\n",
    "import pandas as pd\n",
    "import numpy as np\n",
    "\n",
    "import matplotlib.pyplot as plt\n",
    "import seaborn as sns\n",
    "\n",
    "from sklearn.metrics import mean_squared_error\n",
    "from tensorflow.keras.layers import Dense\n",
    "from tensorflow.keras.models import Sequential\n",
    "from tensorflow.keras.utils import to_categorical\n",
    "from tensorflow.keras.optimizers import SGD\n",
    "from tensorflow.keras.callbacks import EarlyStopping"
   ]
  },
  {
   "cell_type": "markdown",
   "metadata": {},
   "source": [
    "## Libraries Configuration"
   ]
  },
  {
   "cell_type": "code",
   "execution_count": 2,
   "metadata": {},
   "outputs": [],
   "source": [
    "pd.set_option('display.max_columns', None)\n",
    "pd.set_option('display.max_colwidth', None)\n",
    "\n",
    "plt.style.use('fivethirtyeight')"
   ]
  },
  {
   "cell_type": "markdown",
   "metadata": {},
   "source": [
    "# Basics of deep learning and neural networks"
   ]
  },
  {
   "cell_type": "markdown",
   "metadata": {},
   "source": [
    "We'll become familiar with the fundamental concepts and terminology used in deep learning, and understand why deep learning techniques are so powerful today. We'll build simple neural networks and generate predictions with them."
   ]
  },
  {
   "cell_type": "markdown",
   "metadata": {},
   "source": [
    "## Introduction to deeplearning"
   ]
  },
  {
   "cell_type": "markdown",
   "metadata": {},
   "source": [
    "### Interactions\n",
    "\n",
    "- Neural networks account for interactions really well\n",
    "- Deep learning uses especially powerful neural networks\n",
    "  - Text\n",
    "  - Images\n",
    "  - Videos\n",
    "  - Audio\n",
    "  - Source code\n"
   ]
  },
  {
   "cell_type": "markdown",
   "metadata": {},
   "source": [
    "## Forward propagation"
   ]
  },
  {
   "cell_type": "markdown",
   "metadata": {},
   "source": [
    "- Multiply - add process\n",
    "- Dot product\n",
    "- Forward propagation for one data point at a time\n",
    "- Output is the prediction for that data point\n"
   ]
  },
  {
   "cell_type": "markdown",
   "metadata": {},
   "source": [
    "### Forward propagation code"
   ]
  },
  {
   "cell_type": "code",
   "execution_count": 3,
   "metadata": {},
   "outputs": [
    {
     "data": {
      "text/plain": [
       "array([5, 1])"
      ]
     },
     "execution_count": 3,
     "metadata": {},
     "output_type": "execute_result"
    }
   ],
   "source": [
    "input_data = np.array([2,3])\n",
    "\n",
    "weights = {\n",
    "    'node_0': np.array([1, 1]),\n",
    "    'node_1': np.array([-1, 1]),\n",
    "    'output': np.array([2, -1])\n",
    "}\n",
    "\n",
    "node_0_value = (input_data*weights['node_0']).sum()\n",
    "node_1_value = (input_data*weights['node_1']).sum()\n",
    "hidden_layer_values = np.array([node_0_value, node_1_value])\n",
    "hidden_layer_values"
   ]
  },
  {
   "cell_type": "code",
   "execution_count": 4,
   "metadata": {},
   "outputs": [
    {
     "data": {
      "text/plain": [
       "9"
      ]
     },
     "execution_count": 4,
     "metadata": {},
     "output_type": "execute_result"
    }
   ],
   "source": [
    "output = (hidden_layer_values*weights['output']).sum()\n",
    "output"
   ]
  },
  {
   "cell_type": "markdown",
   "metadata": {},
   "source": [
    "## Activation functions\n"
   ]
  },
  {
   "cell_type": "markdown",
   "metadata": {},
   "source": [
    "An \"activation function\" is a function applied at each node. It converts the node's input into some output.\n",
    "* Applied to node inputs to produce node output"
   ]
  },
  {
   "cell_type": "markdown",
   "metadata": {},
   "source": [
    "### ReLU (Rectied Linear Activation)\n",
    "\n",
    "The rectified linear activation function (called ReLU) has been shown to lead to very high-performance networks. This function takes a single number as an input, returning 0 if the input is negative, and the input if the input is positive.\n",
    "\n",
    "$$\n",
    "\\mbox{RELU}(x) = \\left\\{\n",
    "    \\begin{array} \\\\\n",
    "        0 & \\mbox{if} \\ x<0 \\\\\n",
    "        x & \\mbox{if} \\ x>=0\n",
    "    \\end{array}\n",
    "\\right.\n",
    "$$\n",
    "\n",
    "Here are some examples:\n",
    "```python\n",
    "relu(3) = 3\n",
    "relu(-3) = 0\n",
    "```"
   ]
  },
  {
   "cell_type": "code",
   "execution_count": 5,
   "metadata": {},
   "outputs": [
    {
     "data": {
      "text/plain": [
       "0.9950547536867305"
      ]
     },
     "execution_count": 5,
     "metadata": {},
     "output_type": "execute_result"
    }
   ],
   "source": [
    "input_data = np.array([-1, 2])\n",
    "\n",
    "weights = {\n",
    "    'node_0': np.array([3, 3]),\n",
    "    'node_1': np.array([1, 5]),\n",
    "    'output': np.array([2, -1])\n",
    "}\n",
    "\n",
    "node_0_input = (input_data*weights['node_0']).sum()\n",
    "node_0_output = np.tanh(node_0_input)\n",
    "node_0_output"
   ]
  },
  {
   "cell_type": "code",
   "execution_count": 6,
   "metadata": {},
   "outputs": [
    {
     "data": {
      "text/plain": [
       "0.999999969540041"
      ]
     },
     "execution_count": 6,
     "metadata": {},
     "output_type": "execute_result"
    }
   ],
   "source": [
    "node_1_input = (input_data*weights['node_1']).sum()\n",
    "node_1_output = np.tanh(node_1_input)\n",
    "node_1_output"
   ]
  },
  {
   "cell_type": "code",
   "execution_count": 7,
   "metadata": {},
   "outputs": [
    {
     "data": {
      "text/plain": [
       "array([0.99505475, 0.99999997])"
      ]
     },
     "execution_count": 7,
     "metadata": {},
     "output_type": "execute_result"
    }
   ],
   "source": [
    "hidden_layer_values = np.array([node_0_output, node_1_output])\n",
    "hidden_layer_values"
   ]
  },
  {
   "cell_type": "code",
   "execution_count": 8,
   "metadata": {},
   "outputs": [
    {
     "data": {
      "text/plain": [
       "0.9901095378334199"
      ]
     },
     "execution_count": 8,
     "metadata": {},
     "output_type": "execute_result"
    }
   ],
   "source": [
    "output = (hidden_layer_values*weights['output']).sum()\n",
    "output"
   ]
  },
  {
   "cell_type": "code",
   "execution_count": 9,
   "metadata": {},
   "outputs": [],
   "source": [
    "def relu(input_data):\n",
    "    '''This function takes a single number as an input, returning 0 if the input is negative, and the input if the input is positive.'''\n",
    "    \n",
    "    return(max(input_data, 0))\n",
    "\n",
    "\n"
   ]
  },
  {
   "cell_type": "code",
   "execution_count": 10,
   "metadata": {},
   "outputs": [
    {
     "name": "stdout",
     "output_type": "stream",
     "text": [
      "52\n"
     ]
    }
   ],
   "source": [
    "input_data = np.array([3, 5])\n",
    "weights = {\n",
    "    'node_0': np.array([2, 4]), \n",
    "    'node_1': np.array([ 4, -5]), \n",
    "    'output': np.array([2, 7])\n",
    "}\n",
    "\n",
    "# node 0 value: node_0_output\n",
    "node_0_input = (input_data * weights['node_0']).sum()\n",
    "node_0_output = relu(node_0_input)\n",
    "\n",
    "# node 1 value: node_1_output\n",
    "node_1_input = (input_data * weights['node_1']).sum()\n",
    "node_1_output = relu(node_1_input)\n",
    "\n",
    "# Put node values into array: hidden_layer_outputs\n",
    "hidden_layer_outputs = np.array([node_0_output, node_1_output])\n",
    "\n",
    "# model output (do not apply relu)\n",
    "model_output = (hidden_layer_outputs * weights['output']).sum()\n",
    "\n",
    "# Print model output\n",
    "print(model_output)"
   ]
  },
  {
   "cell_type": "markdown",
   "metadata": {},
   "source": [
    "## Deeper networks\n"
   ]
  },
  {
   "cell_type": "markdown",
   "metadata": {},
   "source": [
    "### Representation learning\n",
    "The model training process sets weights that determine the features/interactions in Neural Networks to optimize predictive accuracy.\n",
    "The last layers capture the most complex interactions.\n",
    "- Deep networks internally build representations of patterns in the data\n",
    "- Partially replace the need for feature engineering\n",
    "- Subsequent layers build increasingly sophisticated representationsof raw data\n"
   ]
  },
  {
   "cell_type": "markdown",
   "metadata": {},
   "source": [
    "### Deep learning"
   ]
  },
  {
   "cell_type": "markdown",
   "metadata": {},
   "source": [
    "- Modeler doesn't need to specify the interactions\n",
    "- When you train the model, the neural network gets weights that find the relevant patterns to make better predictions\n"
   ]
  },
  {
   "cell_type": "markdown",
   "metadata": {},
   "source": [
    "### Multi-layer neural networks"
   ]
  },
  {
   "cell_type": "markdown",
   "metadata": {},
   "source": [
    "![image.png](data:image/png;base64,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)"
   ]
  },
  {
   "cell_type": "code",
   "execution_count": 11,
   "metadata": {},
   "outputs": [
    {
     "name": "stdout",
     "output_type": "stream",
     "text": [
      "182\n"
     ]
    }
   ],
   "source": [
    "def predict_with_network(input_data):\n",
    "    # Calculate node 0 in the first hidden layer\n",
    "    node_0_0_input = (input_data * [2,4]).sum()\n",
    "    node_0_0_output = relu(node_0_0_input)\n",
    "\n",
    "    # Calculate node 1 in the first hidden layer\n",
    "    node_0_1_input = (input_data*[4, -5]).sum()\n",
    "    node_0_1_output = relu(node_0_1_input)\n",
    "\n",
    "    # Put node values into array: hidden_0_outputs\n",
    "    hidden_0_outputs = np.array([node_0_0_output, node_0_1_output])\n",
    "    \n",
    "    # Calculate node 0 in the second hidden layer\n",
    "    node_1_0_input = (hidden_0_outputs*[-1, 2]).sum()\n",
    "    node_1_0_output = relu(node_1_0_input)\n",
    "\n",
    "    # Calculate node 1 in the second hidden layer\n",
    "    node_1_1_input = (hidden_0_outputs*[1, 2]).sum()\n",
    "    node_1_1_output = relu(node_1_1_input)\n",
    "\n",
    "    # Put node values into array: hidden_1_outputs\n",
    "    hidden_1_outputs = np.array([node_1_0_output, node_1_1_output])\n",
    "\n",
    "    # Calculate model output: model_output\n",
    "    model_output = (hidden_1_outputs*[2,7]).sum()\n",
    "    \n",
    "    # Return model_output\n",
    "    return(model_output)\n",
    "\n",
    "output = predict_with_network(np.array([3, 5]))\n",
    "print(output)\n"
   ]
  },
  {
   "cell_type": "markdown",
   "metadata": {},
   "source": [
    "The network generated a prediction of  `182` ."
   ]
  },
  {
   "cell_type": "markdown",
   "metadata": {},
   "source": [
    "# Optimizing a neural network with backward propagation\n",
    "\n",
    "Exploring how to optimize the predictions generated by neural networks. We'll use a method called backward propagation, which is one of the most important techniques in deep learning."
   ]
  },
  {
   "cell_type": "markdown",
   "metadata": {},
   "source": [
    "## The need for optimization"
   ]
  },
  {
   "cell_type": "markdown",
   "metadata": {},
   "source": [
    "### Predictions with multiple points"
   ]
  },
  {
   "cell_type": "markdown",
   "metadata": {},
   "source": [
    "- Making accurate predictions gets harder with more points\n",
    "- At any set of weights, there are many values of the error\n",
    "- ... corresponding to the many points we make predictions for"
   ]
  },
  {
   "cell_type": "markdown",
   "metadata": {},
   "source": [
    "### Loss function"
   ]
  },
  {
   "cell_type": "markdown",
   "metadata": {},
   "source": [
    "- Aggregates errors in predictions from many data points into single number\n",
    "- Measure of model's predictive performance\n",
    "- Lower loss function value means a better model\n",
    "- Goal: Find the weights that give the lowest value for the loss function\n",
    "- Gradient descent"
   ]
  },
  {
   "cell_type": "markdown",
   "metadata": {},
   "source": [
    "### Gradient descent"
   ]
  },
  {
   "cell_type": "markdown",
   "metadata": {},
   "source": [
    "### how weight changes affect accuracy"
   ]
  },
  {
   "cell_type": "markdown",
   "metadata": {},
   "source": [
    "We'll get to change weights in a real network and see how they affect model accuracy!\n",
    "\n",
    "![image.png](data:image/png;base64,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)"
   ]
  },
  {
   "cell_type": "code",
   "execution_count": 12,
   "metadata": {},
   "outputs": [],
   "source": [
    "def predict_with_network(input_data_point, weights):\n",
    "    node_0_input = (input_data_point * weights['node_0']).sum()\n",
    "    node_0_output = relu(node_0_input)\n",
    "\n",
    "    node_1_input = (input_data_point * weights['node_1']).sum()\n",
    "    node_1_output = relu(node_1_input)\n",
    "\n",
    "    hidden_layer_values = np.array([node_0_output, node_1_output])\n",
    "    input_to_final_layer = (hidden_layer_values * weights['output']).sum()\n",
    "    model_output = relu(input_to_final_layer)\n",
    "    \n",
    "    return(model_output)"
   ]
  },
  {
   "cell_type": "code",
   "execution_count": 13,
   "metadata": {},
   "outputs": [
    {
     "name": "stdout",
     "output_type": "stream",
     "text": [
      "6\n",
      "0\n"
     ]
    }
   ],
   "source": [
    "# The data point we will make a prediction for\n",
    "input_data = np.array([0, 3])\n",
    "\n",
    "# Sample weights\n",
    "weights_0 = {'node_0': [2, 1],\n",
    "             'node_1': [1, 2],\n",
    "             'output': [1, 1]\n",
    "            }\n",
    "\n",
    "# The actual target value, used to calculate the error\n",
    "target_actual = 3\n",
    "\n",
    "# prediction using original weights\n",
    "model_output_0 = predict_with_network(input_data, weights_0)\n",
    "\n",
    "# error\n",
    "error_0 = model_output_0 - target_actual\n",
    "\n",
    "# weights that cause the network to make perfect prediction (3)\n",
    "weights_1 = {'node_0': [2, 1],\n",
    "             'node_1': [1, 2],\n",
    "             'output': [1, 0]\n",
    "            }\n",
    "\n",
    "# prediction using new weights: model_output_1\n",
    "model_output_1 = predict_with_network(input_data, weights_1)\n",
    "\n",
    "# error\n",
    "error_1 = model_output_1 - target_actual\n",
    "\n",
    "print(error_0)\n",
    "print(error_1)\n"
   ]
  },
  {
   "cell_type": "markdown",
   "metadata": {},
   "source": [
    "### Scaling up to multiple data points"
   ]
  },
  {
   "cell_type": "markdown",
   "metadata": {},
   "source": [
    "We'll compare model accuracies for two different sets of weights, which have been stored as  `weights_0`  and  `weights_1`."
   ]
  },
  {
   "cell_type": "code",
   "execution_count": 14,
   "metadata": {},
   "outputs": [],
   "source": [
    "weights_0 = {\n",
    "    'node_0': np.array([2, 1]), \n",
    "    'node_1': np.array([1, 2]), \n",
    "    'output': np.array([1, 1])\n",
    "}\n",
    "weights_1 = {\n",
    "    'node_0': np.array([2, 1]),\n",
    "    'node_1': np.array([1. , 1.5]),\n",
    "    'output': np.array([1. , 1.5])\n",
    "}"
   ]
  },
  {
   "cell_type": "markdown",
   "metadata": {},
   "source": [
    "`input_data`  is a list of arrays. Each item in that list contains the data to make a single prediction.  `target_actuals`  is a list of numbers. Each item in that list is the actual value we are trying to predict."
   ]
  },
  {
   "cell_type": "code",
   "execution_count": 15,
   "metadata": {},
   "outputs": [],
   "source": [
    "input_data = [np.array([0, 3]), np.array([1, 2]), np.array([-1, -2]), np.array([4, 0])]\n",
    "target_actuals= [1, 3, 5, 7]"
   ]
  },
  {
   "cell_type": "markdown",
   "metadata": {},
   "source": [
    "We'll use the  `mean_squared_error()`  function from  `sklearn.metrics` . It takes the true values and the predicted values as arguments."
   ]
  },
  {
   "cell_type": "code",
   "execution_count": 16,
   "metadata": {},
   "outputs": [],
   "source": [
    "def predict_with_network(input_data_point, weights):\n",
    "    node_0_input = (input_data_point * weights['node_0']).sum()\n",
    "    node_0_output = relu(node_0_input)\n",
    "\n",
    "    node_1_input = (input_data_point * weights['node_1']).sum()\n",
    "    node_1_output = relu(node_1_input)\n",
    "\n",
    "    hidden_layer_values = np.array([node_0_output, node_1_output])\n",
    "    input_to_final_layer = (hidden_layer_values * weights['output']).sum()\n",
    "    model_output = relu(input_to_final_layer)\n",
    "    \n",
    "    return(model_output)"
   ]
  },
  {
   "cell_type": "code",
   "execution_count": 17,
   "metadata": {},
   "outputs": [
    {
     "name": "stdout",
     "output_type": "stream",
     "text": [
      "Mean squared error with weights_0: 37.500000\n",
      "Mean squared error with weights_1: 49.890625\n"
     ]
    }
   ],
   "source": [
    "model_output_0 = []\n",
    "model_output_1 = []\n",
    "\n",
    "# Loop over input_data\n",
    "for row in input_data:\n",
    "    # Append prediction to model_output_0\n",
    "    model_output_0.append(predict_with_network(row, weights_0))\n",
    "    \n",
    "    # Append prediction to model_output_1\n",
    "    model_output_1.append(predict_with_network(row, weights_1))\n",
    "\n",
    "# Calculate the mean squared error for model_output_0\n",
    "mse_0 = mean_squared_error(target_actuals, model_output_0)\n",
    "\n",
    "# Calculate the mean squared error for model_output_1\n",
    "mse_1 = mean_squared_error(target_actuals, model_output_1)\n",
    "\n",
    "print(\"Mean squared error with weights_0: %f\" %mse_0)\n",
    "print(\"Mean squared error with weights_1: %f\" %mse_1)"
   ]
  },
  {
   "cell_type": "markdown",
   "metadata": {},
   "source": [
    "It looks like  `model_output_1`  has a higher mean squared error."
   ]
  },
  {
   "cell_type": "markdown",
   "metadata": {},
   "source": [
    "## Gradient descent\n"
   ]
  },
  {
   "cell_type": "markdown",
   "metadata": {},
   "source": [
    "- If the slope is positive:\n",
    "  - Going opposite the slope means moving to lower numbers\n",
    "  - Subtract the slope from the current value\n",
    "  - Too big a step might lead us astray\n",
    "- Solution: learning rate\n",
    "  - Update each weight by subtracting learning rate * slope\n"
   ]
  },
  {
   "cell_type": "markdown",
   "metadata": {},
   "source": [
    "### Slope calculation"
   ]
  },
  {
   "cell_type": "markdown",
   "metadata": {},
   "source": [
    "When plotting the mean-squared error loss function against predictions, the slope is  `2 * x * (xb-y)` , or  `2 * input_data * error` . Note that  `x`  and  `b`  may have multiple numbers ( `x`  is a vector for each data point, and  `b`  is a vector). In this case, the output will also be a vector\n",
    "\n",
    "To calculate the slope for a weight, need to multiply:\n",
    "- Slope of the loss function w.r.t value at the node we feed into\n",
    "- The value of the node that feeds into our weight\n",
    "- Slope of the activation function w.r.t value we feed into"
   ]
  },
  {
   "cell_type": "code",
   "execution_count": 18,
   "metadata": {},
   "outputs": [
    {
     "data": {
      "text/plain": [
       "5"
      ]
     },
     "execution_count": 18,
     "metadata": {},
     "output_type": "execute_result"
    }
   ],
   "source": [
    "weights = np.array([1,2])\n",
    "input_data = np.array([3, 4])\n",
    "target = 6\n",
    "learning_rate = .01\n",
    "preds = (weights*input_data).sum()\n",
    "error = preds-target\n",
    "error"
   ]
  },
  {
   "cell_type": "code",
   "execution_count": 19,
   "metadata": {},
   "outputs": [
    {
     "data": {
      "text/plain": [
       "array([30, 40])"
      ]
     },
     "execution_count": 19,
     "metadata": {},
     "output_type": "execute_result"
    }
   ],
   "source": [
    "gradient = 2 * input_data * error\n",
    "gradient"
   ]
  },
  {
   "cell_type": "code",
   "execution_count": 20,
   "metadata": {},
   "outputs": [
    {
     "data": {
      "text/plain": [
       "2.5"
      ]
     },
     "execution_count": 20,
     "metadata": {},
     "output_type": "execute_result"
    }
   ],
   "source": [
    "weights_updated = weights - learning_rate * gradient\n",
    "preds_updated = (weights_updated*input_data).sum()\n",
    "error_updated = preds_updated - target\n",
    "error_updated"
   ]
  },
  {
   "cell_type": "markdown",
   "metadata": {},
   "source": [
    "Updating the model weights did indeed decrease the error!"
   ]
  },
  {
   "cell_type": "markdown",
   "metadata": {},
   "source": [
    "### Making multiple updates to weights"
   ]
  },
  {
   "cell_type": "markdown",
   "metadata": {},
   "source": [
    "We're now going to make multiple updates to dramatically improve model weights, and see how the predictions improve with each update.\n",
    "\n",
    "`get_slope()`  function that takes  `input_data` ,  `target` , and  `weights`  as arguments."
   ]
  },
  {
   "cell_type": "code",
   "execution_count": 21,
   "metadata": {},
   "outputs": [],
   "source": [
    "def get_slope(input_data, target, weights):\n",
    "    error = get_error(input_data, target, weights)\n",
    "    slope = 2 * input_data * error\n",
    "    return(slope)"
   ]
  },
  {
   "cell_type": "code",
   "execution_count": 22,
   "metadata": {},
   "outputs": [],
   "source": [
    "def get_error(input_data, target, weights):\n",
    "    preds = (weights * input_data).sum()\n",
    "    error = preds - target\n",
    "    return(error)"
   ]
  },
  {
   "cell_type": "markdown",
   "metadata": {},
   "source": [
    "`get_mse()`  function that takes the same arguments. The  `input_data` ,  `target` , and  `weights`"
   ]
  },
  {
   "cell_type": "code",
   "execution_count": 23,
   "metadata": {},
   "outputs": [],
   "source": [
    "def get_mse(input_data, target, weights):\n",
    "    errors = get_error(input_data, target, weights)\n",
    "    mse = np.mean(errors**2)\n",
    "    return(mse)"
   ]
  },
  {
   "cell_type": "markdown",
   "metadata": {},
   "source": [
    "This network does not have any hidden layers, and it goes directly from the input (with 3 nodes) to an output node. Note that  `weights`  is a single array."
   ]
  },
  {
   "cell_type": "code",
   "execution_count": 24,
   "metadata": {},
   "outputs": [],
   "source": [
    "input_data = np.array([1, 2, 3])\n",
    "target = 0\n",
    "weights = np.array([0, 2, 1])"
   ]
  },
  {
   "cell_type": "code",
   "execution_count": 25,
   "metadata": {},
   "outputs": [
    {
     "data": {
      "image/png": "[encoded data removed]",
      "text/plain": [
       "<Figure size 432x288 with 1 Axes>"
      ]
     },
     "metadata": {},
     "output_type": "display_data"
    }
   ],
   "source": [
    "n_updates = 20\n",
    "mse_hist = []\n",
    "\n",
    "# Iterate over the number of updates\n",
    "for i in range(n_updates):\n",
    "    # Calculate the slope: slope\n",
    "    slope = get_slope(input_data, target, weights)\n",
    "    \n",
    "    # Update the weights: weights\n",
    "    weights = weights - .01 * slope\n",
    "    \n",
    "    # Calculate mse with new weights: mse\n",
    "    mse = get_mse(input_data, target, weights)\n",
    "    \n",
    "    # Append the mse to mse_hist\n",
    "    mse_hist.append(mse)\n",
    "\n",
    "# Plot the mse history\n",
    "plt.plot(mse_hist)\n",
    "plt.xlabel('Iterations')\n",
    "plt.ylabel('Mean Squared Error')\n",
    "plt.show()"
   ]
  },
  {
   "cell_type": "markdown",
   "metadata": {},
   "source": [
    "the mean squared error decreases as the number of iterations go up."
   ]
  },
  {
   "cell_type": "markdown",
   "metadata": {},
   "source": [
    "## Backpropagation\n"
   ]
  },
  {
   "cell_type": "markdown",
   "metadata": {},
   "source": [
    "Each time you generate predictions using forward propagation, you update the weights using backward propagation."
   ]
  },
  {
   "cell_type": "markdown",
   "metadata": {},
   "source": [
    "# Building deep learning models with keras\n",
    "\n",
    "We'll use the Keras library to build deep learning models for both regression and classification. We'll explore the Specify-Compile-Fit workflow that can be used to make predictions."
   ]
  },
  {
   "cell_type": "markdown",
   "metadata": {},
   "source": [
    "## Creating a keras model\n"
   ]
  },
  {
   "cell_type": "markdown",
   "metadata": {},
   "source": [
    "### Model building steps"
   ]
  },
  {
   "cell_type": "markdown",
   "metadata": {},
   "source": [
    "- Specify Architecture\n",
    "- Compile\n",
    "- Fit\n",
    "- Predict"
   ]
  },
  {
   "cell_type": "markdown",
   "metadata": {},
   "source": [
    "### Understanding the data"
   ]
  },
  {
   "cell_type": "markdown",
   "metadata": {},
   "source": [
    "We'll be building models in Keras to predict wages based on various professional and demographic factors. Before we start building a model, it's good to understand the data by performing some exploratory analysis."
   ]
  },
  {
   "cell_type": "code",
   "execution_count": 26,
   "metadata": {},
   "outputs": [
    {
     "data": {
      "text/html": [
       "<div>\n",
       "<style scoped>\n",
       "    .dataframe tbody tr th:only-of-type {\n",
       "        vertical-align: middle;\n",
       "    }\n",
       "\n",
       "    .dataframe tbody tr th {\n",
       "        vertical-align: top;\n",
       "    }\n",
       "\n",
       "    .dataframe thead th {\n",
       "        text-align: right;\n",
       "    }\n",
       "</style>\n",
       "<table border=\"1\" class=\"dataframe\">\n",
       "  <thead>\n",
       "    <tr style=\"text-align: right;\">\n",
       "      <th></th>\n",
       "      <th>wage_per_hour</th>\n",
       "      <th>union</th>\n",
       "      <th>education_yrs</th>\n",
       "      <th>experience_yrs</th>\n",
       "      <th>age</th>\n",
       "      <th>female</th>\n",
       "      <th>marr</th>\n",
       "      <th>south</th>\n",
       "      <th>manufacturing</th>\n",
       "      <th>construction</th>\n",
       "    </tr>\n",
       "  </thead>\n",
       "  <tbody>\n",
       "    <tr>\n",
       "      <th>0</th>\n",
       "      <td>5.10</td>\n",
       "      <td>0</td>\n",
       "      <td>8</td>\n",
       "      <td>21</td>\n",
       "      <td>35</td>\n",
       "      <td>1</td>\n",
       "      <td>1</td>\n",
       "      <td>0</td>\n",
       "      <td>1</td>\n",
       "      <td>0</td>\n",
       "    </tr>\n",
       "    <tr>\n",
       "      <th>1</th>\n",
       "      <td>4.95</td>\n",
       "      <td>0</td>\n",
       "      <td>9</td>\n",
       "      <td>42</td>\n",
       "      <td>57</td>\n",
       "      <td>1</td>\n",
       "      <td>1</td>\n",
       "      <td>0</td>\n",
       "      <td>1</td>\n",
       "      <td>0</td>\n",
       "    </tr>\n",
       "    <tr>\n",
       "      <th>2</th>\n",
       "      <td>6.67</td>\n",
       "      <td>0</td>\n",
       "      <td>12</td>\n",
       "      <td>1</td>\n",
       "      <td>19</td>\n",
       "      <td>0</td>\n",
       "      <td>0</td>\n",
       "      <td>0</td>\n",
       "      <td>1</td>\n",
       "      <td>0</td>\n",
       "    </tr>\n",
       "    <tr>\n",
       "      <th>3</th>\n",
       "      <td>4.00</td>\n",
       "      <td>0</td>\n",
       "      <td>12</td>\n",
       "      <td>4</td>\n",
       "      <td>22</td>\n",
       "      <td>0</td>\n",
       "      <td>0</td>\n",
       "      <td>0</td>\n",
       "      <td>0</td>\n",
       "      <td>0</td>\n",
       "    </tr>\n",
       "    <tr>\n",
       "      <th>4</th>\n",
       "      <td>7.50</td>\n",
       "      <td>0</td>\n",
       "      <td>12</td>\n",
       "      <td>17</td>\n",
       "      <td>35</td>\n",
       "      <td>0</td>\n",
       "      <td>1</td>\n",
       "      <td>0</td>\n",
       "      <td>0</td>\n",
       "      <td>0</td>\n",
       "    </tr>\n",
       "    <tr>\n",
       "      <th>...</th>\n",
       "      <td>...</td>\n",
       "      <td>...</td>\n",
       "      <td>...</td>\n",
       "      <td>...</td>\n",
       "      <td>...</td>\n",
       "      <td>...</td>\n",
       "      <td>...</td>\n",
       "      <td>...</td>\n",
       "      <td>...</td>\n",
       "      <td>...</td>\n",
       "    </tr>\n",
       "    <tr>\n",
       "      <th>529</th>\n",
       "      <td>11.36</td>\n",
       "      <td>0</td>\n",
       "      <td>18</td>\n",
       "      <td>5</td>\n",
       "      <td>29</td>\n",
       "      <td>0</td>\n",
       "      <td>0</td>\n",
       "      <td>0</td>\n",
       "      <td>0</td>\n",
       "      <td>0</td>\n",
       "    </tr>\n",
       "    <tr>\n",
       "      <th>530</th>\n",
       "      <td>6.10</td>\n",
       "      <td>0</td>\n",
       "      <td>12</td>\n",
       "      <td>33</td>\n",
       "      <td>51</td>\n",
       "      <td>1</td>\n",
       "      <td>1</td>\n",
       "      <td>0</td>\n",
       "      <td>0</td>\n",
       "      <td>0</td>\n",
       "    </tr>\n",
       "    <tr>\n",
       "      <th>531</th>\n",
       "      <td>23.25</td>\n",
       "      <td>1</td>\n",
       "      <td>17</td>\n",
       "      <td>25</td>\n",
       "      <td>48</td>\n",
       "      <td>1</td>\n",
       "      <td>1</td>\n",
       "      <td>0</td>\n",
       "      <td>0</td>\n",
       "      <td>0</td>\n",
       "    </tr>\n",
       "    <tr>\n",
       "      <th>532</th>\n",
       "      <td>19.88</td>\n",
       "      <td>1</td>\n",
       "      <td>12</td>\n",
       "      <td>13</td>\n",
       "      <td>31</td>\n",
       "      <td>0</td>\n",
       "      <td>1</td>\n",
       "      <td>1</td>\n",
       "      <td>0</td>\n",
       "      <td>0</td>\n",
       "    </tr>\n",
       "    <tr>\n",
       "      <th>533</th>\n",
       "      <td>15.38</td>\n",
       "      <td>0</td>\n",
       "      <td>16</td>\n",
       "      <td>33</td>\n",
       "      <td>55</td>\n",
       "      <td>0</td>\n",
       "      <td>1</td>\n",
       "      <td>0</td>\n",
       "      <td>1</td>\n",
       "      <td>0</td>\n",
       "    </tr>\n",
       "  </tbody>\n",
       "</table>\n",
       "<p>534 rows × 10 columns</p>\n",
       "</div>"
      ],
      "text/plain": [
       "     wage_per_hour  union  education_yrs  experience_yrs  age  female  marr  \\\n",
       "0             5.10      0              8              21   35       1     1   \n",
       "1             4.95      0              9              42   57       1     1   \n",
       "2             6.67      0             12               1   19       0     0   \n",
       "3             4.00      0             12               4   22       0     0   \n",
       "4             7.50      0             12              17   35       0     1   \n",
       "..             ...    ...            ...             ...  ...     ...   ...   \n",
       "529          11.36      0             18               5   29       0     0   \n",
       "530           6.10      0             12              33   51       1     1   \n",
       "531          23.25      1             17              25   48       1     1   \n",
       "532          19.88      1             12              13   31       0     1   \n",
       "533          15.38      0             16              33   55       0     1   \n",
       "\n",
       "     south  manufacturing  construction  \n",
       "0        0              1             0  \n",
       "1        0              1             0  \n",
       "2        0              1             0  \n",
       "3        0              0             0  \n",
       "4        0              0             0  \n",
       "..     ...            ...           ...  \n",
       "529      0              0             0  \n",
       "530      0              0             0  \n",
       "531      0              0             0  \n",
       "532      1              0             0  \n",
       "533      0              1             0  \n",
       "\n",
       "[534 rows x 10 columns]"
      ]
     },
     "execution_count": 26,
     "metadata": {},
     "output_type": "execute_result"
    }
   ],
   "source": [
    "wages = pd.read_csv('datasets/hourly_wages.csv')\n",
    "wages"
   ]
  },
  {
   "cell_type": "code",
   "execution_count": 27,
   "metadata": {},
   "outputs": [
    {
     "data": {
      "text/html": [
       "<div>\n",
       "<style scoped>\n",
       "    .dataframe tbody tr th:only-of-type {\n",
       "        vertical-align: middle;\n",
       "    }\n",
       "\n",
       "    .dataframe tbody tr th {\n",
       "        vertical-align: top;\n",
       "    }\n",
       "\n",
       "    .dataframe thead th {\n",
       "        text-align: right;\n",
       "    }\n",
       "</style>\n",
       "<table border=\"1\" class=\"dataframe\">\n",
       "  <thead>\n",
       "    <tr style=\"text-align: right;\">\n",
       "      <th></th>\n",
       "      <th>count</th>\n",
       "      <th>mean</th>\n",
       "      <th>std</th>\n",
       "      <th>min</th>\n",
       "      <th>25%</th>\n",
       "      <th>50%</th>\n",
       "      <th>75%</th>\n",
       "      <th>max</th>\n",
       "    </tr>\n",
       "  </thead>\n",
       "  <tbody>\n",
       "    <tr>\n",
       "      <th>wage_per_hour</th>\n",
       "      <td>534.0</td>\n",
       "      <td>9.024064</td>\n",
       "      <td>5.139097</td>\n",
       "      <td>1.0</td>\n",
       "      <td>5.25</td>\n",
       "      <td>7.78</td>\n",
       "      <td>11.25</td>\n",
       "      <td>44.5</td>\n",
       "    </tr>\n",
       "    <tr>\n",
       "      <th>union</th>\n",
       "      <td>534.0</td>\n",
       "      <td>0.179775</td>\n",
       "      <td>0.384360</td>\n",
       "      <td>0.0</td>\n",
       "      <td>0.00</td>\n",
       "      <td>0.00</td>\n",
       "      <td>0.00</td>\n",
       "      <td>1.0</td>\n",
       "    </tr>\n",
       "    <tr>\n",
       "      <th>education_yrs</th>\n",
       "      <td>534.0</td>\n",
       "      <td>13.018727</td>\n",
       "      <td>2.615373</td>\n",
       "      <td>2.0</td>\n",
       "      <td>12.00</td>\n",
       "      <td>12.00</td>\n",
       "      <td>15.00</td>\n",
       "      <td>18.0</td>\n",
       "    </tr>\n",
       "    <tr>\n",
       "      <th>experience_yrs</th>\n",
       "      <td>534.0</td>\n",
       "      <td>17.822097</td>\n",
       "      <td>12.379710</td>\n",
       "      <td>0.0</td>\n",
       "      <td>8.00</td>\n",
       "      <td>15.00</td>\n",
       "      <td>26.00</td>\n",
       "      <td>55.0</td>\n",
       "    </tr>\n",
       "    <tr>\n",
       "      <th>age</th>\n",
       "      <td>534.0</td>\n",
       "      <td>36.833333</td>\n",
       "      <td>11.726573</td>\n",
       "      <td>18.0</td>\n",
       "      <td>28.00</td>\n",
       "      <td>35.00</td>\n",
       "      <td>44.00</td>\n",
       "      <td>64.0</td>\n",
       "    </tr>\n",
       "    <tr>\n",
       "      <th>female</th>\n",
       "      <td>534.0</td>\n",
       "      <td>0.458801</td>\n",
       "      <td>0.498767</td>\n",
       "      <td>0.0</td>\n",
       "      <td>0.00</td>\n",
       "      <td>0.00</td>\n",
       "      <td>1.00</td>\n",
       "      <td>1.0</td>\n",
       "    </tr>\n",
       "    <tr>\n",
       "      <th>marr</th>\n",
       "      <td>534.0</td>\n",
       "      <td>0.655431</td>\n",
       "      <td>0.475673</td>\n",
       "      <td>0.0</td>\n",
       "      <td>0.00</td>\n",
       "      <td>1.00</td>\n",
       "      <td>1.00</td>\n",
       "      <td>1.0</td>\n",
       "    </tr>\n",
       "    <tr>\n",
       "      <th>south</th>\n",
       "      <td>534.0</td>\n",
       "      <td>0.292135</td>\n",
       "      <td>0.455170</td>\n",
       "      <td>0.0</td>\n",
       "      <td>0.00</td>\n",
       "      <td>0.00</td>\n",
       "      <td>1.00</td>\n",
       "      <td>1.0</td>\n",
       "    </tr>\n",
       "    <tr>\n",
       "      <th>manufacturing</th>\n",
       "      <td>534.0</td>\n",
       "      <td>0.185393</td>\n",
       "      <td>0.388981</td>\n",
       "      <td>0.0</td>\n",
       "      <td>0.00</td>\n",
       "      <td>0.00</td>\n",
       "      <td>0.00</td>\n",
       "      <td>1.0</td>\n",
       "    </tr>\n",
       "    <tr>\n",
       "      <th>construction</th>\n",
       "      <td>534.0</td>\n",
       "      <td>0.044944</td>\n",
       "      <td>0.207375</td>\n",
       "      <td>0.0</td>\n",
       "      <td>0.00</td>\n",
       "      <td>0.00</td>\n",
       "      <td>0.00</td>\n",
       "      <td>1.0</td>\n",
       "    </tr>\n",
       "  </tbody>\n",
       "</table>\n",
       "</div>"
      ],
      "text/plain": [
       "                count       mean        std   min    25%    50%    75%   max\n",
       "wage_per_hour   534.0   9.024064   5.139097   1.0   5.25   7.78  11.25  44.5\n",
       "union           534.0   0.179775   0.384360   0.0   0.00   0.00   0.00   1.0\n",
       "education_yrs   534.0  13.018727   2.615373   2.0  12.00  12.00  15.00  18.0\n",
       "experience_yrs  534.0  17.822097  12.379710   0.0   8.00  15.00  26.00  55.0\n",
       "age             534.0  36.833333  11.726573  18.0  28.00  35.00  44.00  64.0\n",
       "female          534.0   0.458801   0.498767   0.0   0.00   0.00   1.00   1.0\n",
       "marr            534.0   0.655431   0.475673   0.0   0.00   1.00   1.00   1.0\n",
       "south           534.0   0.292135   0.455170   0.0   0.00   0.00   1.00   1.0\n",
       "manufacturing   534.0   0.185393   0.388981   0.0   0.00   0.00   0.00   1.0\n",
       "construction    534.0   0.044944   0.207375   0.0   0.00   0.00   0.00   1.0"
      ]
     },
     "execution_count": 27,
     "metadata": {},
     "output_type": "execute_result"
    }
   ],
   "source": [
    "wages.describe().T"
   ]
  },
  {
   "cell_type": "markdown",
   "metadata": {},
   "source": [
    "The target variable we'll be predicting is  `wage_per_hour`. Some of the predictor variables are binary indicators, where a value of 1 represents  `True` , and 0 represents  `False`. Of the 9 predictor variables in the DataFrame, 6 are binary indicators"
   ]
  },
  {
   "cell_type": "code",
   "execution_count": 28,
   "metadata": {},
   "outputs": [
    {
     "data": {
      "text/plain": [
       "(534, 10)"
      ]
     },
     "execution_count": 28,
     "metadata": {},
     "output_type": "execute_result"
    }
   ],
   "source": [
    "wages.shape"
   ]
  },
  {
   "cell_type": "code",
   "execution_count": 29,
   "metadata": {},
   "outputs": [
    {
     "name": "stdout",
     "output_type": "stream",
     "text": [
      "<class 'pandas.core.frame.DataFrame'>\n",
      "RangeIndex: 534 entries, 0 to 533\n",
      "Data columns (total 10 columns):\n",
      " #   Column          Non-Null Count  Dtype  \n",
      "---  ------          --------------  -----  \n",
      " 0   wage_per_hour   534 non-null    float64\n",
      " 1   union           534 non-null    int64  \n",
      " 2   education_yrs   534 non-null    int64  \n",
      " 3   experience_yrs  534 non-null    int64  \n",
      " 4   age             534 non-null    int64  \n",
      " 5   female          534 non-null    int64  \n",
      " 6   marr            534 non-null    int64  \n",
      " 7   south           534 non-null    int64  \n",
      " 8   manufacturing   534 non-null    int64  \n",
      " 9   construction    534 non-null    int64  \n",
      "dtypes: float64(1), int64(9)\n",
      "memory usage: 41.8 KB\n"
     ]
    }
   ],
   "source": [
    "wages.info()"
   ]
  },
  {
   "cell_type": "markdown",
   "metadata": {},
   "source": [
    "There is no missing value in our dataset."
   ]
  },
  {
   "cell_type": "markdown",
   "metadata": {},
   "source": [
    "### Specifying a model"
   ]
  },
  {
   "cell_type": "markdown",
   "metadata": {},
   "source": [
    "To start, we'll take the skeleton of a neural network and add a hidden layer and an output layer. We'll then fit that model and see Keras do the optimization so the model continually gets better. As a start, We'll predict workers wages based on characteristics like their industry, education and level of experience. "
   ]
  },
  {
   "cell_type": "code",
   "execution_count": 30,
   "metadata": {},
   "outputs": [],
   "source": [
    "predictors = wages.drop(columns=['wage_per_hour']).values\n",
    "target = wages.wage_per_hour.values\n",
    "\n",
    "# number of columns in predictors\n",
    "n_cols = predictors.shape[1]\n",
    "\n",
    "model = Sequential()\n",
    "\n",
    "# Layers\n",
    "# 1st Layer\n",
    "model.add(Dense(50, activation='relu', input_shape=(n_cols,)))\n",
    "# 2nd Layer\n",
    "model.add(Dense(32, activation='relu'))\n",
    "# 3rd Layer - Output Layer\n",
    "model.add(Dense(1))"
   ]
  },
  {
   "cell_type": "markdown",
   "metadata": {},
   "source": [
    "## Compiling and fitting a model"
   ]
  },
  {
   "cell_type": "markdown",
   "metadata": {},
   "source": [
    "### Why Compile a model?"
   ]
  },
  {
   "cell_type": "markdown",
   "metadata": {},
   "source": [
    "- Specify the optimizer\n",
    "  - many options are mathematically complex\n",
    "  - 'Adam' is usually a good choice\n",
    "- Loss Function:\n",
    " - 'mean_squared_error' common for regression\n",
    " \n",
    "To compile the model, we need to specify the optimizer and loss function to use. Adam optimizer is an excellent choice. You can read more about it as well as other keras optimizers [here](https://keras.io/optimizers/#adam), and if you are really curious to learn more, you can read the [original paper](https://arxiv.org/abs/1412.6980v8) that introduced the Adam optimizer."
   ]
  },
  {
   "cell_type": "markdown",
   "metadata": {},
   "source": [
    "### Compiling a model"
   ]
  },
  {
   "cell_type": "code",
   "execution_count": 31,
   "metadata": {},
   "outputs": [],
   "source": [
    "model.compile(optimizer='adam', loss='mean_squared_error')"
   ]
  },
  {
   "cell_type": "code",
   "execution_count": 32,
   "metadata": {},
   "outputs": [
    {
     "name": "stdout",
     "output_type": "stream",
     "text": [
      "Loss Function: mean_squared_error\n"
     ]
    }
   ],
   "source": [
    "print(f\"Loss Function: {model.loss}\")"
   ]
  },
  {
   "cell_type": "markdown",
   "metadata": {},
   "source": [
    "### Fitting the model"
   ]
  },
  {
   "cell_type": "markdown",
   "metadata": {},
   "source": [
    "- Applying backpropagation and gradient descent with the data to update the weights\n",
    "- Scaling the data before fitting can ease the optimization\n",
    "\n",
    "The data to be used as predictive features is loaded in a NumPy matrix called  `predictors`  and the data to be predicted is stored in a NumPy matrix called  `target` ."
   ]
  },
  {
   "cell_type": "code",
   "execution_count": 33,
   "metadata": {},
   "outputs": [
    {
     "name": "stdout",
     "output_type": "stream",
     "text": [
      "17/17 [==============================] - 0s 7ms/step - loss: 23.2720\n"
     ]
    },
    {
     "data": {
      "text/plain": [
       "<tensorflow.python.keras.callbacks.History at 0x28b8d532550>"
      ]
     },
     "execution_count": 33,
     "metadata": {},
     "output_type": "execute_result"
    }
   ],
   "source": [
    "model.fit(predictors, target)"
   ]
  },
  {
   "cell_type": "markdown",
   "metadata": {},
   "source": [
    "## Classification models\n"
   ]
  },
  {
   "cell_type": "markdown",
   "metadata": {},
   "source": [
    "### Classification"
   ]
  },
  {
   "cell_type": "markdown",
   "metadata": {},
   "source": [
    "- `'categorical_crossentropy'` loss function\n",
    "- Similar to log loss: Lower is better.\n",
    "- Add `metrics=['accuracy']` to compile step for easy-to-understand diagonistics\n",
    "- Output layer has separate node for each possible outcome, and uses `softmax` activation"
   ]
  },
  {
   "cell_type": "markdown",
   "metadata": {},
   "source": [
    "### Understanding the classification data"
   ]
  },
  {
   "cell_type": "code",
   "execution_count": 34,
   "metadata": {},
   "outputs": [
    {
     "data": {
      "text/html": [
       "<div>\n",
       "<style scoped>\n",
       "    .dataframe tbody tr th:only-of-type {\n",
       "        vertical-align: middle;\n",
       "    }\n",
       "\n",
       "    .dataframe tbody tr th {\n",
       "        vertical-align: top;\n",
       "    }\n",
       "\n",
       "    .dataframe thead th {\n",
       "        text-align: right;\n",
       "    }\n",
       "</style>\n",
       "<table border=\"1\" class=\"dataframe\">\n",
       "  <thead>\n",
       "    <tr style=\"text-align: right;\">\n",
       "      <th></th>\n",
       "      <th>survived</th>\n",
       "      <th>pclass</th>\n",
       "      <th>age</th>\n",
       "      <th>sibsp</th>\n",
       "      <th>parch</th>\n",
       "      <th>fare</th>\n",
       "      <th>male</th>\n",
       "      <th>age_was_missing</th>\n",
       "      <th>embarked_from_cherbourg</th>\n",
       "      <th>embarked_from_queenstown</th>\n",
       "      <th>embarked_from_southampton</th>\n",
       "    </tr>\n",
       "  </thead>\n",
       "  <tbody>\n",
       "    <tr>\n",
       "      <th>0</th>\n",
       "      <td>0</td>\n",
       "      <td>3</td>\n",
       "      <td>22.000000</td>\n",
       "      <td>1</td>\n",
       "      <td>0</td>\n",
       "      <td>7.2500</td>\n",
       "      <td>1</td>\n",
       "      <td>0</td>\n",
       "      <td>0</td>\n",
       "      <td>0</td>\n",
       "      <td>1</td>\n",
       "    </tr>\n",
       "    <tr>\n",
       "      <th>1</th>\n",
       "      <td>1</td>\n",
       "      <td>1</td>\n",
       "      <td>38.000000</td>\n",
       "      <td>1</td>\n",
       "      <td>0</td>\n",
       "      <td>71.2833</td>\n",
       "      <td>0</td>\n",
       "      <td>0</td>\n",
       "      <td>1</td>\n",
       "      <td>0</td>\n",
       "      <td>0</td>\n",
       "    </tr>\n",
       "    <tr>\n",
       "      <th>2</th>\n",
       "      <td>1</td>\n",
       "      <td>3</td>\n",
       "      <td>26.000000</td>\n",
       "      <td>0</td>\n",
       "      <td>0</td>\n",
       "      <td>7.9250</td>\n",
       "      <td>0</td>\n",
       "      <td>0</td>\n",
       "      <td>0</td>\n",
       "      <td>0</td>\n",
       "      <td>1</td>\n",
       "    </tr>\n",
       "    <tr>\n",
       "      <th>3</th>\n",
       "      <td>1</td>\n",
       "      <td>1</td>\n",
       "      <td>35.000000</td>\n",
       "      <td>1</td>\n",
       "      <td>0</td>\n",
       "      <td>53.1000</td>\n",
       "      <td>0</td>\n",
       "      <td>0</td>\n",
       "      <td>0</td>\n",
       "      <td>0</td>\n",
       "      <td>1</td>\n",
       "    </tr>\n",
       "    <tr>\n",
       "      <th>4</th>\n",
       "      <td>0</td>\n",
       "      <td>3</td>\n",
       "      <td>35.000000</td>\n",
       "      <td>0</td>\n",
       "      <td>0</td>\n",
       "      <td>8.0500</td>\n",
       "      <td>1</td>\n",
       "      <td>0</td>\n",
       "      <td>0</td>\n",
       "      <td>0</td>\n",
       "      <td>1</td>\n",
       "    </tr>\n",
       "    <tr>\n",
       "      <th>...</th>\n",
       "      <td>...</td>\n",
       "      <td>...</td>\n",
       "      <td>...</td>\n",
       "      <td>...</td>\n",
       "      <td>...</td>\n",
       "      <td>...</td>\n",
       "      <td>...</td>\n",
       "      <td>...</td>\n",
       "      <td>...</td>\n",
       "      <td>...</td>\n",
       "      <td>...</td>\n",
       "    </tr>\n",
       "    <tr>\n",
       "      <th>886</th>\n",
       "      <td>0</td>\n",
       "      <td>2</td>\n",
       "      <td>27.000000</td>\n",
       "      <td>0</td>\n",
       "      <td>0</td>\n",
       "      <td>13.0000</td>\n",
       "      <td>1</td>\n",
       "      <td>0</td>\n",
       "      <td>0</td>\n",
       "      <td>0</td>\n",
       "      <td>1</td>\n",
       "    </tr>\n",
       "    <tr>\n",
       "      <th>887</th>\n",
       "      <td>1</td>\n",
       "      <td>1</td>\n",
       "      <td>19.000000</td>\n",
       "      <td>0</td>\n",
       "      <td>0</td>\n",
       "      <td>30.0000</td>\n",
       "      <td>0</td>\n",
       "      <td>0</td>\n",
       "      <td>0</td>\n",
       "      <td>0</td>\n",
       "      <td>1</td>\n",
       "    </tr>\n",
       "    <tr>\n",
       "      <th>888</th>\n",
       "      <td>0</td>\n",
       "      <td>3</td>\n",
       "      <td>29.699118</td>\n",
       "      <td>1</td>\n",
       "      <td>2</td>\n",
       "      <td>23.4500</td>\n",
       "      <td>0</td>\n",
       "      <td>1</td>\n",
       "      <td>0</td>\n",
       "      <td>0</td>\n",
       "      <td>1</td>\n",
       "    </tr>\n",
       "    <tr>\n",
       "      <th>889</th>\n",
       "      <td>1</td>\n",
       "      <td>1</td>\n",
       "      <td>26.000000</td>\n",
       "      <td>0</td>\n",
       "      <td>0</td>\n",
       "      <td>30.0000</td>\n",
       "      <td>1</td>\n",
       "      <td>0</td>\n",
       "      <td>1</td>\n",
       "      <td>0</td>\n",
       "      <td>0</td>\n",
       "    </tr>\n",
       "    <tr>\n",
       "      <th>890</th>\n",
       "      <td>0</td>\n",
       "      <td>3</td>\n",
       "      <td>32.000000</td>\n",
       "      <td>0</td>\n",
       "      <td>0</td>\n",
       "      <td>7.7500</td>\n",
       "      <td>1</td>\n",
       "      <td>0</td>\n",
       "      <td>0</td>\n",
       "      <td>1</td>\n",
       "      <td>0</td>\n",
       "    </tr>\n",
       "  </tbody>\n",
       "</table>\n",
       "<p>891 rows × 11 columns</p>\n",
       "</div>"
      ],
      "text/plain": [
       "     survived  pclass        age  sibsp  parch     fare  male  \\\n",
       "0           0       3  22.000000      1      0   7.2500     1   \n",
       "1           1       1  38.000000      1      0  71.2833     0   \n",
       "2           1       3  26.000000      0      0   7.9250     0   \n",
       "3           1       1  35.000000      1      0  53.1000     0   \n",
       "4           0       3  35.000000      0      0   8.0500     1   \n",
       "..        ...     ...        ...    ...    ...      ...   ...   \n",
       "886         0       2  27.000000      0      0  13.0000     1   \n",
       "887         1       1  19.000000      0      0  30.0000     0   \n",
       "888         0       3  29.699118      1      2  23.4500     0   \n",
       "889         1       1  26.000000      0      0  30.0000     1   \n",
       "890         0       3  32.000000      0      0   7.7500     1   \n",
       "\n",
       "     age_was_missing  embarked_from_cherbourg  embarked_from_queenstown  \\\n",
       "0                  0                        0                         0   \n",
       "1                  0                        1                         0   \n",
       "2                  0                        0                         0   \n",
       "3                  0                        0                         0   \n",
       "4                  0                        0                         0   \n",
       "..               ...                      ...                       ...   \n",
       "886                0                        0                         0   \n",
       "887                0                        0                         0   \n",
       "888                1                        0                         0   \n",
       "889                0                        1                         0   \n",
       "890                0                        0                         1   \n",
       "\n",
       "     embarked_from_southampton  \n",
       "0                            1  \n",
       "1                            0  \n",
       "2                            1  \n",
       "3                            1  \n",
       "4                            1  \n",
       "..                         ...  \n",
       "886                          1  \n",
       "887                          1  \n",
       "888                          1  \n",
       "889                          0  \n",
       "890                          0  \n",
       "\n",
       "[891 rows x 11 columns]"
      ]
     },
     "execution_count": 34,
     "metadata": {},
     "output_type": "execute_result"
    }
   ],
   "source": [
    "titanic = pd.read_csv('datasets/titanic_all_numeric.csv')\n",
    "titanic['age_was_missing'] = titanic.age_was_missing.map({False:0, True:1})\n",
    "titanic"
   ]
  },
  {
   "cell_type": "code",
   "execution_count": 35,
   "metadata": {},
   "outputs": [
    {
     "data": {
      "text/plain": [
       "(891, 11)"
      ]
     },
     "execution_count": 35,
     "metadata": {},
     "output_type": "execute_result"
    }
   ],
   "source": [
    "titanic.shape"
   ]
  },
  {
   "cell_type": "code",
   "execution_count": 36,
   "metadata": {},
   "outputs": [
    {
     "name": "stdout",
     "output_type": "stream",
     "text": [
      "<class 'pandas.core.frame.DataFrame'>\n",
      "RangeIndex: 891 entries, 0 to 890\n",
      "Data columns (total 11 columns):\n",
      " #   Column                     Non-Null Count  Dtype  \n",
      "---  ------                     --------------  -----  \n",
      " 0   survived                   891 non-null    int64  \n",
      " 1   pclass                     891 non-null    int64  \n",
      " 2   age                        891 non-null    float64\n",
      " 3   sibsp                      891 non-null    int64  \n",
      " 4   parch                      891 non-null    int64  \n",
      " 5   fare                       891 non-null    float64\n",
      " 6   male                       891 non-null    int64  \n",
      " 7   age_was_missing            891 non-null    int64  \n",
      " 8   embarked_from_cherbourg    891 non-null    int64  \n",
      " 9   embarked_from_queenstown   891 non-null    int64  \n",
      " 10  embarked_from_southampton  891 non-null    int64  \n",
      "dtypes: float64(2), int64(9)\n",
      "memory usage: 76.7 KB\n"
     ]
    }
   ],
   "source": [
    "titanic.info()"
   ]
  },
  {
   "cell_type": "code",
   "execution_count": 37,
   "metadata": {},
   "outputs": [
    {
     "data": {
      "text/html": [
       "<div>\n",
       "<style scoped>\n",
       "    .dataframe tbody tr th:only-of-type {\n",
       "        vertical-align: middle;\n",
       "    }\n",
       "\n",
       "    .dataframe tbody tr th {\n",
       "        vertical-align: top;\n",
       "    }\n",
       "\n",
       "    .dataframe thead th {\n",
       "        text-align: right;\n",
       "    }\n",
       "</style>\n",
       "<table border=\"1\" class=\"dataframe\">\n",
       "  <thead>\n",
       "    <tr style=\"text-align: right;\">\n",
       "      <th></th>\n",
       "      <th>count</th>\n",
       "      <th>mean</th>\n",
       "      <th>std</th>\n",
       "      <th>min</th>\n",
       "      <th>25%</th>\n",
       "      <th>50%</th>\n",
       "      <th>75%</th>\n",
       "      <th>max</th>\n",
       "    </tr>\n",
       "  </thead>\n",
       "  <tbody>\n",
       "    <tr>\n",
       "      <th>survived</th>\n",
       "      <td>891.0</td>\n",
       "      <td>0.383838</td>\n",
       "      <td>0.486592</td>\n",
       "      <td>0.00</td>\n",
       "      <td>0.0000</td>\n",
       "      <td>0.000000</td>\n",
       "      <td>1.0</td>\n",
       "      <td>1.0000</td>\n",
       "    </tr>\n",
       "    <tr>\n",
       "      <th>pclass</th>\n",
       "      <td>891.0</td>\n",
       "      <td>2.308642</td>\n",
       "      <td>0.836071</td>\n",
       "      <td>1.00</td>\n",
       "      <td>2.0000</td>\n",
       "      <td>3.000000</td>\n",
       "      <td>3.0</td>\n",
       "      <td>3.0000</td>\n",
       "    </tr>\n",
       "    <tr>\n",
       "      <th>age</th>\n",
       "      <td>891.0</td>\n",
       "      <td>29.699118</td>\n",
       "      <td>13.002015</td>\n",
       "      <td>0.42</td>\n",
       "      <td>22.0000</td>\n",
       "      <td>29.699118</td>\n",
       "      <td>35.0</td>\n",
       "      <td>80.0000</td>\n",
       "    </tr>\n",
       "    <tr>\n",
       "      <th>sibsp</th>\n",
       "      <td>891.0</td>\n",
       "      <td>0.523008</td>\n",
       "      <td>1.102743</td>\n",
       "      <td>0.00</td>\n",
       "      <td>0.0000</td>\n",
       "      <td>0.000000</td>\n",
       "      <td>1.0</td>\n",
       "      <td>8.0000</td>\n",
       "    </tr>\n",
       "    <tr>\n",
       "      <th>parch</th>\n",
       "      <td>891.0</td>\n",
       "      <td>0.381594</td>\n",
       "      <td>0.806057</td>\n",
       "      <td>0.00</td>\n",
       "      <td>0.0000</td>\n",
       "      <td>0.000000</td>\n",
       "      <td>0.0</td>\n",
       "      <td>6.0000</td>\n",
       "    </tr>\n",
       "    <tr>\n",
       "      <th>fare</th>\n",
       "      <td>891.0</td>\n",
       "      <td>32.204208</td>\n",
       "      <td>49.693429</td>\n",
       "      <td>0.00</td>\n",
       "      <td>7.9104</td>\n",
       "      <td>14.454200</td>\n",
       "      <td>31.0</td>\n",
       "      <td>512.3292</td>\n",
       "    </tr>\n",
       "    <tr>\n",
       "      <th>male</th>\n",
       "      <td>891.0</td>\n",
       "      <td>0.647587</td>\n",
       "      <td>0.477990</td>\n",
       "      <td>0.00</td>\n",
       "      <td>0.0000</td>\n",
       "      <td>1.000000</td>\n",
       "      <td>1.0</td>\n",
       "      <td>1.0000</td>\n",
       "    </tr>\n",
       "    <tr>\n",
       "      <th>age_was_missing</th>\n",
       "      <td>891.0</td>\n",
       "      <td>0.198653</td>\n",
       "      <td>0.399210</td>\n",
       "      <td>0.00</td>\n",
       "      <td>0.0000</td>\n",
       "      <td>0.000000</td>\n",
       "      <td>0.0</td>\n",
       "      <td>1.0000</td>\n",
       "    </tr>\n",
       "    <tr>\n",
       "      <th>embarked_from_cherbourg</th>\n",
       "      <td>891.0</td>\n",
       "      <td>0.188552</td>\n",
       "      <td>0.391372</td>\n",
       "      <td>0.00</td>\n",
       "      <td>0.0000</td>\n",
       "      <td>0.000000</td>\n",
       "      <td>0.0</td>\n",
       "      <td>1.0000</td>\n",
       "    </tr>\n",
       "    <tr>\n",
       "      <th>embarked_from_queenstown</th>\n",
       "      <td>891.0</td>\n",
       "      <td>0.086420</td>\n",
       "      <td>0.281141</td>\n",
       "      <td>0.00</td>\n",
       "      <td>0.0000</td>\n",
       "      <td>0.000000</td>\n",
       "      <td>0.0</td>\n",
       "      <td>1.0000</td>\n",
       "    </tr>\n",
       "    <tr>\n",
       "      <th>embarked_from_southampton</th>\n",
       "      <td>891.0</td>\n",
       "      <td>0.722783</td>\n",
       "      <td>0.447876</td>\n",
       "      <td>0.00</td>\n",
       "      <td>0.0000</td>\n",
       "      <td>1.000000</td>\n",
       "      <td>1.0</td>\n",
       "      <td>1.0000</td>\n",
       "    </tr>\n",
       "  </tbody>\n",
       "</table>\n",
       "</div>"
      ],
      "text/plain": [
       "                           count       mean        std   min      25%  \\\n",
       "survived                   891.0   0.383838   0.486592  0.00   0.0000   \n",
       "pclass                     891.0   2.308642   0.836071  1.00   2.0000   \n",
       "age                        891.0  29.699118  13.002015  0.42  22.0000   \n",
       "sibsp                      891.0   0.523008   1.102743  0.00   0.0000   \n",
       "parch                      891.0   0.381594   0.806057  0.00   0.0000   \n",
       "fare                       891.0  32.204208  49.693429  0.00   7.9104   \n",
       "male                       891.0   0.647587   0.477990  0.00   0.0000   \n",
       "age_was_missing            891.0   0.198653   0.399210  0.00   0.0000   \n",
       "embarked_from_cherbourg    891.0   0.188552   0.391372  0.00   0.0000   \n",
       "embarked_from_queenstown   891.0   0.086420   0.281141  0.00   0.0000   \n",
       "embarked_from_southampton  891.0   0.722783   0.447876  0.00   0.0000   \n",
       "\n",
       "                                 50%   75%       max  \n",
       "survived                    0.000000   1.0    1.0000  \n",
       "pclass                      3.000000   3.0    3.0000  \n",
       "age                        29.699118  35.0   80.0000  \n",
       "sibsp                       0.000000   1.0    8.0000  \n",
       "parch                       0.000000   0.0    6.0000  \n",
       "fare                       14.454200  31.0  512.3292  \n",
       "male                        1.000000   1.0    1.0000  \n",
       "age_was_missing             0.000000   0.0    1.0000  \n",
       "embarked_from_cherbourg     0.000000   0.0    1.0000  \n",
       "embarked_from_queenstown    0.000000   0.0    1.0000  \n",
       "embarked_from_southampton   1.000000   1.0    1.0000  "
      ]
     },
     "execution_count": 37,
     "metadata": {},
     "output_type": "execute_result"
    }
   ],
   "source": [
    "titanic.describe().T"
   ]
  },
  {
   "cell_type": "markdown",
   "metadata": {},
   "source": [
    "The maximum age in the data is  `80` .\n",
    "\n",
    "We will start modeling with a new dataset for a classification problem. This data includes information about passengers on the Titanic. We will use predictors such as  `age` ,  `fare`  and where each passenger embarked from to predict who will survive. This data is from [a tutorial on data science competitions](https://www.kaggle.com/c/titanic). Look [here](https://www.kaggle.com/c/titanic/data) for descriptions of the features."
   ]
  },
  {
   "cell_type": "markdown",
   "metadata": {},
   "source": [
    "### Last steps in classification models"
   ]
  },
  {
   "cell_type": "markdown",
   "metadata": {},
   "source": [
    "We'll now create a classification model using the titanic dataset. We'll take information about the passengers and predict which ones survived. The target to predict is in  `titanic.survived` , though we'll have to manipulate it for keras."
   ]
  },
  {
   "cell_type": "code",
   "execution_count": 38,
   "metadata": {},
   "outputs": [],
   "source": [
    "predictors = titanic.drop(columns=['survived']).values\n",
    "\n",
    "n_cols = predictors.shape[1]"
   ]
  },
  {
   "cell_type": "markdown",
   "metadata": {},
   "source": [
    "We'll use the  `'sgd'`  optimizer, which stands for [Stochastic Gradient Descent](https://en.wikipedia.org/wiki/Stochastic_gradient_descent)."
   ]
  },
  {
   "cell_type": "code",
   "execution_count": 39,
   "metadata": {},
   "outputs": [
    {
     "name": "stdout",
     "output_type": "stream",
     "text": [
      "28/28 [==============================] - 0s 2ms/step - loss: 3.3218 - accuracy: 0.5948\n"
     ]
    },
    {
     "data": {
      "text/plain": [
       "<tensorflow.python.keras.callbacks.History at 0x28b8e693668>"
      ]
     },
     "execution_count": 39,
     "metadata": {},
     "output_type": "execute_result"
    }
   ],
   "source": [
    "target = to_categorical(titanic.survived)\n",
    "\n",
    "model = Sequential()\n",
    "\n",
    "# LAYERS\n",
    "# 1st Layer\n",
    "model.add(Dense(32, activation='relu', input_shape=(n_cols,)))\n",
    "# output Layer\n",
    "## There are two outcomes; it should have two units  \n",
    "## and because it is a classification model, the activation should be 'softmax'.\n",
    "model.add(Dense(2, activation='softmax'))\n",
    "\n",
    "# Compile\n",
    "model.compile(optimizer='sgd', loss='categorical_crossentropy', metrics=['accuracy'])\n",
    "\n",
    "# Fitting\n",
    "model.fit(predictors, target)"
   ]
  },
  {
   "cell_type": "markdown",
   "metadata": {},
   "source": [
    "This simple model is generating an accuracy of 58!"
   ]
  },
  {
   "cell_type": "markdown",
   "metadata": {},
   "source": [
    "## Using models\n"
   ]
  },
  {
   "cell_type": "markdown",
   "metadata": {},
   "source": [
    "- Save\n",
    "- Reload\n",
    "- Make predictions"
   ]
  },
  {
   "cell_type": "markdown",
   "metadata": {},
   "source": [
    "### Making predictions"
   ]
  },
  {
   "cell_type": "code",
   "execution_count": 40,
   "metadata": {},
   "outputs": [
    {
     "data": {
      "text/plain": [
       "array([[  2.    ,  34.    ,   0.    ,   0.    ,  13.    ,   1.    ,\n",
       "          0.    ,   0.    ,   0.    ,   1.    ],\n",
       "       [  2.    ,  31.    ,   1.    ,   1.    ,  26.25  ,   0.    ,\n",
       "          0.    ,   0.    ,   0.    ,   1.    ],\n",
       "       [  1.    ,  11.    ,   1.    ,   2.    , 120.    ,   1.    ,\n",
       "          0.    ,   0.    ,   0.    ,   1.    ],\n",
       "       [  3.    ,   0.42  ,   0.    ,   1.    ,   8.5167,   1.    ,\n",
       "          0.    ,   1.    ,   0.    ,   0.    ],\n",
       "       [  3.    ,  27.    ,   0.    ,   0.    ,   6.975 ,   1.    ,\n",
       "          0.    ,   0.    ,   0.    ,   1.    ]])"
      ]
     },
     "execution_count": 40,
     "metadata": {},
     "output_type": "execute_result"
    }
   ],
   "source": [
    "pred_data = pd.read_csv('datasets/pred_data.csv')\n",
    "pred_data['6'] = pred_data['6'].map({False:0, True:1})\n",
    "pred_data = pred_data.values\n",
    "pred_data[:5]"
   ]
  },
  {
   "cell_type": "code",
   "execution_count": 41,
   "metadata": {},
   "outputs": [
    {
     "data": {
      "text/plain": [
       "array([0.23549911, 0.4757725 , 0.9933542 , 0.68198895, 0.18131228],\n",
       "      dtype=float32)"
      ]
     },
     "execution_count": 41,
     "metadata": {},
     "output_type": "execute_result"
    }
   ],
   "source": [
    "predictions = model.predict(pred_data)\n",
    "predicted_prob_true = predictions[:, 1]\n",
    "predicted_prob_true[:5]"
   ]
  },
  {
   "cell_type": "code",
   "execution_count": 42,
   "metadata": {},
   "outputs": [
    {
     "name": "stdout",
     "output_type": "stream",
     "text": [
      "Model: \"sequential_1\"\n",
      "_________________________________________________________________\n",
      "Layer (type)                 Output Shape              Param #   \n",
      "=================================================================\n",
      "dense_3 (Dense)              (None, 32)                352       \n",
      "_________________________________________________________________\n",
      "dense_4 (Dense)              (None, 2)                 66        \n",
      "=================================================================\n",
      "Total params: 418\n",
      "Trainable params: 418\n",
      "Non-trainable params: 0\n",
      "_________________________________________________________________\n"
     ]
    }
   ],
   "source": [
    "model.summary()"
   ]
  },
  {
   "cell_type": "markdown",
   "metadata": {},
   "source": [
    "# Fine-tuning keras models\n",
    "\n",
    "Explore how to optimize deep learning models in Keras. Start by exploring how to validate models, then understand the concept of model capacity, and finally, experiment with wider and deeper networks."
   ]
  },
  {
   "cell_type": "markdown",
   "metadata": {},
   "source": [
    "## Understanding model optimization"
   ]
  },
  {
   "cell_type": "markdown",
   "metadata": {},
   "source": [
    "### Why optimization is hard"
   ]
  },
  {
   "cell_type": "markdown",
   "metadata": {},
   "source": [
    "- Simultaneously optimizing 1000s of parameters with complex relationships\n",
    "- Updates may not improve model meaningfully\n",
    "- Updates too small (if learning rate is low) or too large (if learningrate is high)\n"
   ]
  },
  {
   "cell_type": "markdown",
   "metadata": {},
   "source": [
    "### Vanishing gradients"
   ]
  },
  {
   "cell_type": "markdown",
   "metadata": {},
   "source": [
    "- Occurs when many layers have very small slopes (e.g. due to being on flat part of tanh curve)\n",
    "- In deep networks, updates to backprop were close to 0\n"
   ]
  },
  {
   "cell_type": "markdown",
   "metadata": {},
   "source": [
    "### Changing optimization parameters"
   ]
  },
  {
   "cell_type": "markdown",
   "metadata": {},
   "source": [
    "We'll now try optimizing a model at a very low learning rate, a very high learning rate, and a \"just right\" learning rate. We'll look at the results after running, remembering that a low value for the loss function is good.\n",
    "\n",
    "The optimization should start from scratch every time we change the learning rate, to give a fair comparison of how each learning rate did in the results. So we'll have to create a function `get_new_model()` that creates an unoptimized model to optimize."
   ]
  },
  {
   "cell_type": "code",
   "execution_count": 43,
   "metadata": {},
   "outputs": [],
   "source": [
    "def get_new_model(input_shape = (n_cols,)):\n",
    "    \"\"\"creates an unoptimized model to optimize\"\"\"\n",
    "    model = Sequential()\n",
    "    model.add(Dense(100, activation='relu', input_shape = input_shape))\n",
    "    model.add(Dense(100, activation='relu'))\n",
    "    model.add(Dense(2, activation='softmax'))\n",
    "    return(model)"
   ]
  },
  {
   "cell_type": "code",
   "execution_count": 44,
   "metadata": {},
   "outputs": [
    {
     "name": "stdout",
     "output_type": "stream",
     "text": [
      "\n",
      "\n",
      "Testing model with learning rate: 0.000001\n",
      "\n",
      "28/28 [==============================] - 0s 2ms/step - loss: 2.6486\n",
      "\n",
      "\n",
      "Testing model with learning rate: 0.010000\n",
      "\n",
      "28/28 [==============================] - 0s 1ms/step - loss: 1.7959\n",
      "\n",
      "\n",
      "Testing model with learning rate: 1.000000\n",
      "\n",
      "28/28 [==============================] - 0s 1ms/step - loss: 67313952.0000\n"
     ]
    }
   ],
   "source": [
    "#  list of learning rates\n",
    "lr_to_test = [.000001, .01, 1]\n",
    "\n",
    "# Loop over learning rates\n",
    "for lr in lr_to_test:\n",
    "    print('\\n\\nTesting model with learning rate: %f\\n'%lr )\n",
    "    \n",
    "    # new model to test, unaffected by previous models\n",
    "    model = get_new_model()\n",
    "    \n",
    "    # SGD optimizer with specified learning rate: my_optimizer\n",
    "    my_optimizer = SGD(lr=lr)\n",
    "    \n",
    "    # Compile the model\n",
    "    model.compile(optimizer=my_optimizer, loss='categorical_crossentropy')\n",
    "    \n",
    "    # Fit the model\n",
    "    model.fit(predictors, target)"
   ]
  },
  {
   "cell_type": "markdown",
   "metadata": {},
   "source": [
    "## Model validation\n"
   ]
  },
  {
   "cell_type": "markdown",
   "metadata": {},
   "source": [
    "### Validation in deep learning"
   ]
  },
  {
   "cell_type": "markdown",
   "metadata": {},
   "source": [
    "- Commonly use validation split rather than cross-validation\n",
    "- Deep learning widely used on large datasets\n",
    "- Single validation score is based on large amount of data, and is reliable\n",
    "- Repeated training from cross-validation would take long time\n"
   ]
  },
  {
   "cell_type": "code",
   "execution_count": 45,
   "metadata": {},
   "outputs": [
    {
     "name": "stdout",
     "output_type": "stream",
     "text": [
      "20/20 [==============================] - 1s 34ms/step - loss: 0.7311 - accuracy: 0.6148 - val_loss: 0.8024 - val_accuracy: 0.6418\n"
     ]
    },
    {
     "data": {
      "text/plain": [
       "<tensorflow.python.keras.callbacks.History at 0x28b8e8a1f98>"
      ]
     },
     "execution_count": 45,
     "metadata": {},
     "output_type": "execute_result"
    }
   ],
   "source": [
    "model = get_new_model()\n",
    "model.compile(optimizer='adam', loss='categorical_crossentropy', metrics=['accuracy'])\n",
    "model.fit(predictors, target, validation_split=.3)"
   ]
  },
  {
   "cell_type": "markdown",
   "metadata": {},
   "source": [
    "### Early Stopping\n",
    "early stopping can be used to stop optimization when it isn't helping any more. "
   ]
  },
  {
   "cell_type": "code",
   "execution_count": 46,
   "metadata": {},
   "outputs": [
    {
     "name": "stdout",
     "output_type": "stream",
     "text": [
      "Epoch 1/20\n",
      "20/20 [==============================] - 0s 4ms/step - loss: 0.7024 - accuracy: 0.6597 - val_loss: 0.6368 - val_accuracy: 0.6455\n",
      "Epoch 2/20\n",
      "20/20 [==============================] - 0s 3ms/step - loss: 0.6176 - accuracy: 0.6758 - val_loss: 0.5178 - val_accuracy: 0.7388\n",
      "Epoch 3/20\n",
      "20/20 [==============================] - 0s 3ms/step - loss: 0.6276 - accuracy: 0.6886 - val_loss: 0.5066 - val_accuracy: 0.7724\n",
      "Epoch 4/20\n",
      "20/20 [==============================] - 0s 3ms/step - loss: 0.6067 - accuracy: 0.6870 - val_loss: 0.5977 - val_accuracy: 0.7201\n",
      "Epoch 5/20\n",
      "20/20 [==============================] - 0s 3ms/step - loss: 0.6217 - accuracy: 0.7095 - val_loss: 0.5118 - val_accuracy: 0.7910\n"
     ]
    },
    {
     "data": {
      "text/plain": [
       "<tensorflow.python.keras.callbacks.History at 0x28b8fa6be80>"
      ]
     },
     "execution_count": 46,
     "metadata": {},
     "output_type": "execute_result"
    }
   ],
   "source": [
    "early_stopping_monitor = EarlyStopping(patience=2)\n",
    "model.fit(predictors, target, validation_split=.3, epochs=20, callbacks=[early_stopping_monitor])"
   ]
  },
  {
   "cell_type": "markdown",
   "metadata": {},
   "source": [
    "Because optimization will automatically stop when it is no longer helpful, it is okay to specify the maximum number of epochs as 20 rather than using the default of 10 that you've used so far. Here, it seems like the optimization stopped after 5 epochs."
   ]
  },
  {
   "cell_type": "markdown",
   "metadata": {},
   "source": [
    "### Experimentation\n",
    "- Experiment with different architectures\n",
    "- More layers\n",
    "- Fewer layers\n",
    "- Layers with more nodes\n",
    "- Layers with fewer nodes\n",
    "- Creating a great model requires experimentation\n"
   ]
  },
  {
   "cell_type": "markdown",
   "metadata": {},
   "source": [
    "### Experimenting with wider networks"
   ]
  },
  {
   "cell_type": "markdown",
   "metadata": {},
   "source": [
    "We'll create a new model called  `model_2`  which is similar to  `model` , except it has 100 units in each hidden layer.\n",
    "\n",
    "After we create  `model_2` , both models will be fitted, and a graph showing both models loss score at each epoch will be shown. We'll add the argument  `verbose=False`  in the fitting commands to print out fewer updates, since we will look at these graphically instead of as text."
   ]
  },
  {
   "cell_type": "code",
   "execution_count": 49,
   "metadata": {},
   "outputs": [],
   "source": [
    "# the new model\n",
    "model_2 = Sequential()\n",
    "\n",
    "model_2.add(Dense(100, activation='relu', input_shape=(n_cols,)))\n",
    "model_2.add(Dense(100, activation = 'relu', input_shape=(n_cols,)))\n",
    "\n",
    "model_2.add(Dense(2, activation='softmax'))\n",
    "\n",
    "model_2.compile(optimizer='adam', loss='categorical_crossentropy', metrics=['accuracy'])"
   ]
  },
  {
   "cell_type": "code",
   "execution_count": 51,
   "metadata": {},
   "outputs": [],
   "source": [
    "# Fit model_1\n",
    "model_1_training = model.fit(predictors, target, epochs=15, validation_split=0.2, callbacks=[early_stopping_monitor], verbose=False)"
   ]
  },
  {
   "cell_type": "code",
   "execution_count": 52,
   "metadata": {},
   "outputs": [],
   "source": [
    "# Fit model_2\n",
    "model_2_training = model_2.fit(predictors, target, epochs=15, validation_split=0.2, callbacks=[early_stopping_monitor], verbose=False)"
   ]
  },
  {
   "cell_type": "code",
   "execution_count": 53,
   "metadata": {},
   "outputs": [
    {
     "data": {
      "image/png": "[encoded data removed]",
      "text/plain": [
       "<Figure size 432x288 with 1 Axes>"
      ]
     },
     "metadata": {},
     "output_type": "display_data"
    }
   ],
   "source": [
    "# Create the plot\n",
    "plt.plot(model_1_training.history['val_loss'], 'r', model_2_training.history['val_loss'], 'b')\n",
    "plt.xlabel('Epochs')\n",
    "plt.ylabel('Validation score')\n",
    "plt.show()"
   ]
  },
  {
   "cell_type": "markdown",
   "metadata": {},
   "source": [
    "New model had a lower loss value, so it is the better model."
   ]
  },
  {
   "cell_type": "code",
   "execution_count": 54,
   "metadata": {},
   "outputs": [
    {
     "name": "stdout",
     "output_type": "stream",
     "text": [
      "Model: \"sequential_5\"\n",
      "_________________________________________________________________\n",
      "Layer (type)                 Output Shape              Param #   \n",
      "=================================================================\n",
      "dense_14 (Dense)             (None, 100)               1100      \n",
      "_________________________________________________________________\n",
      "dense_15 (Dense)             (None, 100)               10100     \n",
      "_________________________________________________________________\n",
      "dense_16 (Dense)             (None, 2)                 202       \n",
      "=================================================================\n",
      "Total params: 11,402\n",
      "Trainable params: 11,402\n",
      "Non-trainable params: 0\n",
      "_________________________________________________________________\n"
     ]
    }
   ],
   "source": [
    "model.summary()"
   ]
  },
  {
   "cell_type": "code",
   "execution_count": 55,
   "metadata": {},
   "outputs": [
    {
     "name": "stdout",
     "output_type": "stream",
     "text": [
      "Model: \"sequential_7\"\n",
      "_________________________________________________________________\n",
      "Layer (type)                 Output Shape              Param #   \n",
      "=================================================================\n",
      "dense_17 (Dense)             (None, 100)               1100      \n",
      "_________________________________________________________________\n",
      "dense_18 (Dense)             (None, 100)               10100     \n",
      "_________________________________________________________________\n",
      "dense_19 (Dense)             (None, 2)                 202       \n",
      "=================================================================\n",
      "Total params: 11,402\n",
      "Trainable params: 11,402\n",
      "Non-trainable params: 0\n",
      "_________________________________________________________________\n"
     ]
    }
   ],
   "source": [
    "model_2.summary()"
   ]
  },
  {
   "cell_type": "markdown",
   "metadata": {},
   "source": [
    "### Adding layers to a network"
   ]
  },
  {
   "cell_type": "markdown",
   "metadata": {},
   "source": [
    "We'll try a deeper network (more hidden layers)."
   ]
  },
  {
   "cell_type": "code",
   "execution_count": 56,
   "metadata": {},
   "outputs": [],
   "source": [
    "input_shape = (n_cols,)\n",
    "model_2 = Sequential()\n",
    "\n",
    "model_2.add(Dense(100, activation='relu', input_shape=input_shape))\n",
    "model_2.add(Dense(100, activation='relu', input_shape=input_shape))\n",
    "model_2.add(Dense(100, activation='relu', input_shape=input_shape))\n",
    "\n",
    "model_2.add(Dense(2, activation='softmax'))\n",
    "\n",
    "model_2.compile(optimizer='adam', loss='categorical_crossentropy', metrics=['accuracy'])"
   ]
  },
  {
   "cell_type": "code",
   "execution_count": 57,
   "metadata": {},
   "outputs": [],
   "source": [
    "# Fit model 1\n",
    "model_1_training = model.fit(predictors, target, epochs=20, validation_split=0.4, callbacks=[early_stopping_monitor], verbose=False)"
   ]
  },
  {
   "cell_type": "code",
   "execution_count": 58,
   "metadata": {},
   "outputs": [],
   "source": [
    "# Fit model 2\n",
    "model_2_training = model_2.fit(predictors, target, epochs=20, validation_split=0.4, callbacks=[early_stopping_monitor], verbose=False)"
   ]
  },
  {
   "cell_type": "code",
   "execution_count": 59,
   "metadata": {},
   "outputs": [
    {
     "data": {
      "image/png": "[encoded data removed]",
      "text/plain": [
       "<Figure size 432x288 with 1 Axes>"
      ]
     },
     "metadata": {},
     "output_type": "display_data"
    }
   ],
   "source": [
    "# Create the plot\n",
    "plt.plot(model_1_training.history['val_loss'], 'r', model_2_training.history['val_loss'], 'b')\n",
    "plt.xlabel('Epochs')\n",
    "plt.ylabel('Validation score')\n",
    "plt.show()"
   ]
  },
  {
   "cell_type": "markdown",
   "metadata": {},
   "source": [
    " The model with the lower loss value is the better model."
   ]
  },
  {
   "cell_type": "code",
   "execution_count": null,
   "metadata": {},
   "outputs": [],
   "source": []
  },
  {
   "cell_type": "code",
   "execution_count": null,
   "metadata": {},
   "outputs": [],
   "source": []
  },
  {
   "cell_type": "code",
   "execution_count": null,
   "metadata": {},
   "outputs": [],
   "source": []
  },
  {
   "cell_type": "code",
   "execution_count": null,
   "metadata": {},
   "outputs": [],
   "source": []
  },
  {
   "cell_type": "code",
   "execution_count": null,
   "metadata": {},
   "outputs": [],
   "source": []
  }
 ],
 "metadata": {
  "kernelspec": {
   "display_name": "Python 3",
   "language": "python",
   "name": "python3"
  },
  "language_info": {
   "codemirror_mode": {
    "name": "ipython",
    "version": 3
   },
   "file_extension": ".py",
   "mimetype": "text/x-python",
   "name": "python",
   "nbconvert_exporter": "python",
   "pygments_lexer": "ipython3",
   "version": "3.6.5"
  }
 },
 "nbformat": 4,
 "nbformat_minor": 4
}
